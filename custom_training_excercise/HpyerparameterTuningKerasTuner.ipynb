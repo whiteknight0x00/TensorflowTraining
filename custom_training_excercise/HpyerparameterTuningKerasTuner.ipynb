{
 "cells": [
  {
   "cell_type": "markdown",
   "metadata": {},
   "source": [
    "#### Explanation: \n",
    "This code installs the necessary libraries using pip\n",
    "\n",
    "- **TensorFlow**: Ensures compatibility with the Keras Tuner.\n",
    "- **Keras Tuner**: The version used in this lab.\n",
    "- **Numpy**: Ensures compatibility with the other installed packages.\n"
   ]
  },
  {
   "cell_type": "code",
   "execution_count": null,
   "metadata": {},
   "outputs": [],
   "source": [
    "import sys\n",
    "sys.setrecursionlimit(1000000)"
   ]
  },
  {
   "cell_type": "markdown",
   "metadata": {},
   "source": [
    "#### Explanation: \n",
    "The sys.setrecursionlimit function is used to increase the recursion limit, which helps prevent potential recursion errors when running complex models with deep nested functions or when using certain libraries like TensorFlow.\n"
   ]
  },
  {
   "cell_type": "code",
   "execution_count": null,
   "metadata": {},
   "outputs": [],
   "source": [
    "# Step 2: Import necessary libraries\n",
    "import keras_tuner as kt\n",
    "from keras.api.models import Sequential\n",
    "from keras.api.layers import Dense, Flatten\n",
    "from keras.api.datasets import mnist\n",
    "from keras.api.optimizers import Adam\n",
    "import os\n",
    "import warnings\n",
    "\n",
    "# Suppress all Python warnings\n",
    "warnings.filterwarnings('ignore')\n",
    "\n",
    "# Set TensorFlow log level to suppress warnings and info messages\n",
    "os.environ['TF_CPP_MIN_LOG_LEVEL'] = '2'  # 0 = all logs, 1 = filter out INFO, 2 = filter out INFO and WARNING, 3 = ERROR only"
   ]
  },
  {
   "cell_type": "markdown",
   "metadata": {},
   "source": [
    "#### Explanation\n",
    "\n",
    "This code imports the necessary libraries:\n",
    "\n",
    "- **`keras_tuner`**: Used for hyperparameter tuning.\n",
    "- **`Sequential`**: A linear stack of layers in Keras.\n",
    "- **`Dense`**, **`Flatten`**: Common Keras layers.\n",
    "- **`mnist`**: The MNIST dataset, a standard dataset for image classification.\n",
    "- **`Adam`**: An optimizer in Keras.\n"
   ]
  },
  {
   "cell_type": "code",
   "execution_count": null,
   "metadata": {},
   "outputs": [],
   "source": [
    "\n",
    "# Step 3: Load and preprocess the MNIST dataset\n",
    "(x_train, y_train), (x_val, y_val) = mnist.load_data()\n",
    "x_train, x_val = x_train / 255.0, x_val / 255.0\n",
    "\n",
    "print(f'Training data shape: {x_train.shape}')\n",
    "print(f'Validation data shape: {x_val.shape}')"
   ]
  },
  {
   "cell_type": "markdown",
   "metadata": {},
   "source": [
    "#### Explanation\n",
    "\n",
    "This code loads the MNIST dataset and preprocesses it:\n",
    "\n",
    "- **`mnist.load_data()`**: Loads the dataset, returning training and validation splits.\n",
    "- **`x_train / 255.0`**: Normalizes the pixel values to be between 0 and 1.\n",
    "- **`print(f'...')`**: Displays the shapes of the training and validation datasets.\n"
   ]
  },
  {
   "cell_type": "markdown",
   "metadata": {},
   "source": [
    "### Exercise 2: Defining the model with hyperparameters \n",
    "\n",
    "In this exercise, you define a model-building function that uses the `HyperParameters` object to specify the number of units in a dense layer and the learning rate. This function returns a compiled Keras model that is ready for hyperparameter tuning.\n",
    "\n",
    "**Define a model-building function:**\n",
    "- Create a function `build_model` that takes a `HyperParameters` object as input.\n",
    "- Use the `HyperParameters` object to define the number of units in a dense layer and the learning rate for the optimizer.\n",
    "- Compile the model with sparse categorical cross-entropy loss and Adam optimizer.\n"
   ]
  },
  {
   "cell_type": "code",
   "execution_count": null,
   "metadata": {},
   "outputs": [],
   "source": [
    "# Define a model-building function \n",
    "\n",
    "def build_model(hp):\n",
    "    model = Sequential([\n",
    "        Flatten(input_shape=(28, 28)),\n",
    "        Dense(units=hp.Int('units', min_value=32, max_value=512, step=32), activation='relu'),\n",
    "        Dense(10, activation='softmax')\n",
    "    ])\n",
    "\n",
    "    model.compile(\n",
    "        optimizer=Adam(learning_rate=hp.Float('learning_rate', min_value=1e-4, max_value=1e-2, sampling='LOG')),\n",
    "        loss='sparse_categorical_crossentropy',\n",
    "        metrics=['accuracy']\n",
    "    )\n",
    "\n",
    "    return model\n"
   ]
  },
  {
   "cell_type": "markdown",
   "metadata": {},
   "source": [
    "#### Explanation\n",
    "\n",
    "This function builds and compiles a Keras model with hyperparameters:\n",
    "\n",
    "- **`hp.Int('units', ...)`**: Defines the number of units in the Dense layer as a hyperparameter.\n",
    "- **`hp.Float('learning_rate', ...)`**: Defines the learning rate as a hyperparameter.\n",
    "- **`model.compile()`**: Compiles the model with the Adam optimizer and sparse categorical cross-entropy loss.\n"
   ]
  },
  {
   "cell_type": "markdown",
   "metadata": {},
   "source": [
    "### Exercise 3: Configuring the hyperparameter search \n",
    "\n",
    "This exercise guides you through configuring Keras Tuner. You create a `RandomSearch` tuner, specifying the model-building function, the optimization objective, the number of trials, and the directory for storing results. The search space summary provides an overview of the hyperparameters being tuned. \n",
    "\n",
    "**Create a RandomSearch Tuner:**\n",
    "- Use the `RandomSearch` class from Keras Tuner. \n",
    "- Specify the model-building function, optimization objective (validation accuracy), number of trials, and directory for storing results.\n"
   ]
  },
  {
   "cell_type": "code",
   "execution_count": null,
   "metadata": {},
   "outputs": [],
   "source": [
    "# Create a RandomSearch Tuner \n",
    "\n",
    "tuner = kt.RandomSearch(\n",
    "    build_model,\n",
    "    objective='val_accuracy',\n",
    "    max_trials=10,\n",
    "    executions_per_trial=2,\n",
    "    directory='my_dir',\n",
    "    project_name='intro_to_kt'\n",
    ")\n",
    "\n",
    "# Display a summary of the search space \n",
    "tuner.search_space_summary()"
   ]
  },
  {
   "cell_type": "markdown",
   "metadata": {},
   "source": [
    "#### Explanation\n",
    "\n",
    "This code sets up a Keras Tuner `RandomSearch`:\n",
    "\n",
    "- **`build_model`**: The model-building function.\n",
    "- **`objective='val_accuracy'`**: The metric to optimize (validation accuracy).\n",
    "- **`max_trials=10`**: The maximum number of different hyperparameter configurations to try.\n",
    "- **`executions_per_trial=2`**: The number of times to run each configuration.\n",
    "- **`directory='my_dir'`**: Directory to save the results.\n",
    "- **`project_name='intro_to_kt'`**: Name of the project for organizing results.\n",
    "\n",
    "Displays a summary of the hyperparameter search space, providing an overview of the hyperparameters being tuned.\n",
    "\n"
   ]
  },
  {
   "cell_type": "markdown",
   "metadata": {},
   "source": [
    "### Exercise 4: Running the hyperparameter search \n",
    "\n",
    "In this exercise, you run the hyperparameter search using the `search` method of the tuner. You provide the training and validation data along with the number of epochs. After the search is complete, the results summary displays the best hyperparameter configurations found. \n",
    "\n",
    "**Run the search:**\n",
    "- Use the `search` method of the tuner. \n",
    "- Pass in the training data, validation data, and the number of epochs\n"
   ]
  },
  {
   "cell_type": "code",
   "execution_count": null,
   "metadata": {},
   "outputs": [],
   "source": [
    "# Run the hyperparameter search \n",
    "tuner.search(x_train, y_train, epochs=5, validation_data=(x_val, y_val)) \n",
    "\n",
    "# Display a summary of the results \n",
    "tuner.results_summary() "
   ]
  },
  {
   "cell_type": "markdown",
   "metadata": {},
   "source": [
    "#### Explanation\n",
    "\n",
    "This command runs the hyperparameter search:\n",
    "\n",
    "- **`epochs=5`**: Each trial is trained for 5 epochs.\n",
    "- **`validation_data=(x_val, y_val)`**: The validation data to evaluate the model's performance during the search.\n",
    "\n",
    "After the search is complete, this command displays a summary of the best hyperparameter configurations found during the search.\n"
   ]
  },
  {
   "cell_type": "markdown",
   "metadata": {},
   "source": [
    "## Exercise 5: Analyzing and using the best hyperparameters \n",
    "\n",
    "In this exercise, you retrieve the best hyperparameters found during the search and print their values. You then build a model with these optimized hyperparameters and train it on the full training data set. Finally, you evaluate the model’s performance on the test set to ensure that it performs well with the selected hyperparameters. \n",
    "\n",
    "**Retrieve the best hyperparameters:**\n",
    "- Use the `get_best_hyperparameters` method to get the best hyperparameters. \n",
    "- Print the optimal values for the hyperparameters. \n",
    "\n",
    "**Build and train the model:**\n",
    "- Build a model using the best hyperparameters. \n",
    "- Train the model on the full training data set and evaluate its performance on the test set.\n"
   ]
  },
  {
   "cell_type": "code",
   "execution_count": null,
   "metadata": {},
   "outputs": [],
   "source": [
    "# Step 1: Retrieve the best hyperparameters \n",
    "\n",
    "best_hps = tuner.get_best_hyperparameters(num_trials=1)[0] \n",
    "print(f\"\"\" \n",
    "\n",
    "The optimal number of units in the first dense layer is {best_hps.get('units')}. \n",
    "\n",
    "The optimal learning rate for the optimizer is {best_hps.get('learning_rate')}. \n",
    "\n",
    "\"\"\") \n",
    "\n",
    "# Step 2: Build and Train the Model with Best Hyperparameters \n",
    "model = tuner.hypermodel.build(best_hps) \n",
    "model.fit(x_train, y_train, epochs=10, validation_split=0.2) \n",
    "\n",
    "# Evaluate the model on the test set \n",
    "test_loss, test_acc = model.evaluate(x_val, y_val) \n",
    "print(f'Test accuracy: {test_acc}') "
   ]
  },
  {
   "cell_type": "markdown",
   "metadata": {},
   "source": [
    "#### Explanation\n",
    "\n",
    "This code retrieves the best hyperparameters found during the search:\n",
    "\n",
    "- **`get_best_hyperparameters(num_trials=1)`**: Gets the best hyperparameter configuration.\n",
    "- **`print(f\"...\")`**: Prints the best hyperparameters.\n",
    "- **`model.fit(...)`**: Trains the model on the full training data with a validation split of 20%.\n",
    "- **`model.evaluate(...)`**: Evaluates the model on the test (validation) dataset and prints the accuracy, which gives an indication of how well the model generalizes.\n"
   ]
  },
  {
   "cell_type": "markdown",
   "metadata": {},
   "source": [
    "## Practice exercises \n",
    "\n",
    "### Exercise 1: Setting Up Keras Tuner \n",
    "\n",
    "#### Objective: \n",
    "Learn how to set up Keras Tuner and prepare the environment for hyperparameter tuning. \n",
    "\n",
    "#### Instructions: \n",
    "1. Install Keras Tuner.\n",
    "2. Import necessary libraries.\n",
    "3. Load and preprocess the MNIST data set.\n"
   ]
  },
  {
   "cell_type": "code",
   "execution_count": null,
   "metadata": {},
   "outputs": [],
   "source": [
    "(X_train, y_train), (X_test, y_test) = mnist.load_data()\n",
    "X_train, X_test = X_train / 255.0, X_test / 255.0\n",
    "\n",
    "print(f'Training data shape: {X_train.shape}')\n",
    "print(f'Test data shape: {X_test.shape}')"
   ]
  },
  {
   "cell_type": "markdown",
   "metadata": {},
   "source": [
    "### Exercise 2: Defining the model with hyperparameters \n",
    "\n",
    "#### Objective: \n",
    "Define a model-building function that uses hyperparameters to configure the model architecture. \n",
    "\n",
    "#### Instructions: \n",
    "1. Define a model-building function that uses the `HyperParameters` object to specify the number of units in a dense layer and the learning rate. \n",
    "2. Compile the model with sparse categorical cross-entropy loss and Adam optimizer. \n"
   ]
  },
  {
   "cell_type": "code",
   "execution_count": null,
   "metadata": {},
   "outputs": [],
   "source": [
    "def build_model(hp):\n",
    "    model = Sequential([\n",
    "        Flatten(input_shape=(28, 28)),\n",
    "        Dense(units=hp.Int('units', min_value=32, max_value=512, step=32), activation='relu'),\n",
    "        Dense(10, activation='softmax')\n",
    "    ])\n",
    "\n",
    "    model.compile(optimizer=Adam(learning_rate=hp.Float('learning_rate', min_value=1e-4, max_value=1e-2, sampling='LOG')), \n",
    "                  loss='sparse_categorical_crossentropy',\n",
    "                  metrics=['accuracy'])\n",
    "    \n",
    "    return model"
   ]
  },
  {
   "cell_type": "markdown",
   "metadata": {},
   "source": [
    "### Exercise 3: Configuring the hyperparameter search \n",
    "\n",
    "#### Objective: \n",
    "Set up Keras Tuner to search for the best hyperparameter configuration. \n",
    "\n",
    "#### Instructions: \n",
    "1. Create a `RandomSearch` tuner using the model-building function. \n",
    "2. Specify the optimization objective, number of trials, and directory for storing results.\n"
   ]
  },
  {
   "cell_type": "code",
   "execution_count": null,
   "metadata": {},
   "outputs": [],
   "source": [
    "tuner = kt.RandomSearch(\n",
    "    build_model,\n",
    "    objective='val_accuracy',\n",
    "    max_trials=10,\n",
    "    executions_per_trial=2,\n",
    "    directory='my_dir',\n",
    "    project_name='intro_to_kt'\n",
    ")\n",
    "\n",
    "tuner.search_space_summary()"
   ]
  },
  {
   "cell_type": "markdown",
   "metadata": {},
   "source": [
    "### Exercise 4: Running the hyperparameter search\n",
    "\n",
    "#### Objective: \n",
    "Run the hyperparameter search and dispaly the summary of the results.\n",
    "\n",
    "#### Instructions: \n",
    "1. Run the hyperparameter search using the `search` method of the tuner. \n",
    "2. Pass in the training data, validation data, and the number of epochs. \n",
    "3. Display a summary of the results. \n"
   ]
  },
  {
   "cell_type": "code",
   "execution_count": null,
   "metadata": {},
   "outputs": [],
   "source": [
    "tuner.search(X_train, y_train, epochs=5, validation_data=(X_test, y_test))\n",
    "tuner.results_summary()"
   ]
  },
  {
   "cell_type": "markdown",
   "metadata": {},
   "source": [
    "### Exercise 5: Analyzing and using the best hyperparameters \n",
    "\n",
    "#### Objective: \n",
    "Retrieve the best hyperparameters from the search and build a model with these optimized values. \n",
    "\n",
    "#### Instructions: \n",
    "1. Retrieve the best hyperparameters using the `get_best_hyperparameters` method. \n",
    "2. Build a model using the best hyperparameters. \n",
    "3. Train the model on the full training data set and evaluate its performance on the validation set.\n"
   ]
  },
  {
   "cell_type": "code",
   "execution_count": null,
   "metadata": {},
   "outputs": [],
   "source": [
    "best_hps = tuner.get_best_hyperparameters(num_trials=1)[0]\n",
    "print(f\"\"\"\n",
    "      The optimal number of units in the first dense layer is {best_hps.get('units')}.\n",
    "        The optimal learning rate for the optimizer is {best_hps.get('learning_rate')}.\n",
    "        \"\"\")\n",
    "\n",
    "# Build and train the model with the best hyperparameters\n",
    "model = tuner.hypermodel.build(best_hps)\n",
    "model.fit(X_train, y_train, epochs=10, validation_split=0.2)\n",
    "# Evaluate the model on the test set\n",
    "test_loss, test_acc = model.evaluate(X_test, y_test)\n",
    "print(f'Test accuracy: {test_acc}')"
   ]
  },
  {
   "cell_type": "markdown",
   "metadata": {},
   "source": [
    "### Conclusion \n",
    "\n",
    "Congratulations on completing this lab! You have learned to set up Keras Tuner and prepare the environment for hyperparameter tuning. In addition, you defined a model-building function that uses hyperparameters to configure the model architecture. You configured Keras Tuner to search for the best hyperparameter configuration and learned to run the hyperparameter search and analyze the results. Finally, you retrieved the best hyperparameters and built a model with these optimized values. \n"
   ]
  }
 ],
 "metadata": {
  "kernelspec": {
   "display_name": "base",
   "language": "python",
   "name": "python3"
  },
  "language_info": {
   "codemirror_mode": {
    "name": "ipython",
    "version": 3
   },
   "file_extension": ".py",
   "mimetype": "text/x-python",
   "name": "python",
   "nbconvert_exporter": "python",
   "pygments_lexer": "ipython3",
   "version": "3.12.8"
  }
 },
 "nbformat": 4,
 "nbformat_minor": 2
}
