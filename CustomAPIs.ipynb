{
 "cells": [
  {
   "cell_type": "markdown",
   "metadata": {},
   "source": [
    "# This is a Tensorflow Training Notebook\n",
    "\n",
    "Below is online courses project code of IBM Deep Learning with Tensorflow"
   ]
  },
  {
   "cell_type": "code",
   "execution_count": 3,
   "metadata": {},
   "outputs": [],
   "source": [
    "import tensorflow as tf\n",
    "from keras.api.layers import Layer\n",
    "from keras.api.models import Sequential\n",
    "# from tensorflow.python.keras.models import Sequential as tf_sequential\n",
    "# tf_sequential([Layer(), Layer(), Layer()])\n",
    "# something different with keras.api.models.Sequential and tensorflow.api.keras.models.Sequential\n",
    "# Cuz when I use tensorflow.api.keras.models.Sequential([Layer1, Layer2, Layer3]), it will raise an error\n",
    "# ValueError: The first layer in a Sequential model must get an `input_shape` or `batch_input_shape` argument.\n",
    "# And I don't know how to fix it, so I use keras.api.models.Sequential instead\n",
    "# And I don't know the difference between them, so I just use keras.api.models.Sequential\n",
    "# I think I should read the document and the source code to find the difference between them\n",
    "# this is the constructor of keras.api.models.Sequential\n",
    "# it calls the _maybe_rebuild() method\n",
    "# when we call the constructor of Sequential([Laysers]), it will build the model automatically\n",
    "# def __init__(self, layers=None, trainable=True, name=None):\n",
    "#        super().__init__(trainable=trainable, name=name)\n",
    "#        self._functional = None\n",
    "#        self._layers = []\n",
    "#        if layers:\n",
    "#            for layer in layers:\n",
    "#                self.add(layer, rebuild=False)\n",
    "#            self._maybe_rebuild()\n",
    "# -------------------------------------------------------------\n",
    "# this is the constructor of tensorflow.python.keras.models.Sequential\n",
    "# @trackable.no_automatic_dependency_tracking\n",
    "#   def __init__(self, layers=None, name=None):\n",
    "#     \"\"\"Creates a `Sequential` model instance.\n",
    "#\n",
    "#     Args:\n",
    "#       layers: Optional list of layers to add to the model.\n",
    "#       name: Optional name for the model.\n",
    "#     \"\"\"\n",
    "#     # Skip the init in FunctionalModel since model doesn't have input/output yet\n",
    "#     super(functional.Functional, self).__init__(  # pylint: disable=bad-super-call\n",
    "#         name=name, autocast=False)\n",
    "#     self.supports_masking = True\n",
    "#     self._compute_output_and_mask_jointly = True\n",
    "#     self._auto_track_sub_layers = False\n",
    "#     self._inferred_input_shape = None\n",
    "#     self._has_explicit_input_shape = False\n",
    "#     self._input_dtype = None\n",
    "#     self._layer_call_argspecs = {}\n",
    "#     self._created_nodes = set()\n",
    "#     # Flag that indicate whether the sequential network topology has been\n",
    "#     # created. It is false when there isn't any layer, or the layers doesn't\n",
    "#     # have input shape.\n",
    "#     self._graph_initialized = False\n",
    "#\n",
    "#     # Unfortunately some Sequential models using custom layers or FeatureColumn\n",
    "#     # layers have multiple inputs. This is fundamentally incompatible with\n",
    "#     # most of the Sequential API, and we have to disable a number of features\n",
    "#     # for such models.\n",
    "#     self._use_legacy_deferred_behavior = False\n",
    "#\n",
    "#     # Add to the model any layers passed to the constructor.\n",
    "#     if layers:\n",
    "#       if not isinstance(layers, (list, tuple)):\n",
    "#         layers = [layers]\n",
    "#       for layer in layers:\n",
    "#         self.add(layer)\n",
    "# but when we call the constructor of tensorflow.python.keras.models.Sequential([Layers]), it will not build the model automatically\n",
    "# so it will raise an error and we need to build the model mannually\n",
    "# **SORRY, I FORGOT THE ERROR MESSAGE, I WILL ADD IT LATER**\n",
    "# -------------------------------------------------------------\n",
    "# and the environment is Python 3.12.8, tensorflow 2.19.0, keras 3.9.0\n",
    "# the environment of the lab exercise is Python IDK, tensorflow 2.16.2, keras IDK\n",
    "# -------------------------------------------------------------\n",
    "# Commit fe87e2b\n",
    "# From the commit history of keras, I found that the keras has changed since Apr 14, 2023 by fchollet \n",
    "# and the commit message is Sequential improvements -- move to \"always build\"\n",
    "# and the release version is 3.0.0, Nov 28, 2023, so I think this is a great change\n",
    "# -     def pop(self):\n",
    "# +     def pop(self, rebuild=True):\n",
    "#          layer = self._layers.pop()\n",
    "# -        self.built = False\n",
    "# _        self._functional = None\n",
    "# +        if rebuild:\n",
    "# +            self._maybe_rebuild()\n",
    "# +        else:\n",
    "# +            self.built = False\n",
    "# +            self._functional = None\n",
    "#\n",
    "## very useful change\n",
    "# -------------------------------------------------------------\n",
    "# and tensorflow hasn't changed this part of the code, so I think the lab exercise is based on keras api"
   ]
  },
  {
   "cell_type": "markdown",
   "metadata": {},
   "source": [
    "**Step 2: Define a custom layer**\n",
    "\n",
    "Define a custom dense layer with 32 units and ReLU activation."
   ]
  },
  {
   "cell_type": "code",
   "execution_count": 4,
   "metadata": {},
   "outputs": [],
   "source": [
    "class CustomDenseLayer(Layer):\n",
    "    def __init__(self, units = 32):\n",
    "        super(CustomDenseLayer, self).__init__()\n",
    "        self.units = units\n",
    "    \n",
    "    def build(self, input_shape):\n",
    "        self.w = self.add_weight(shape = (input_shape[-1], self.units),\n",
    "                                 initializer = 'random_normal',\n",
    "                                 trainable = True)\n",
    "        self.b = self.add_weight(shape = (self.units,),\n",
    "                                 initializer = 'zeros',\n",
    "                                 trainable = True)\n",
    "        \n",
    "    def call(self, inputs):\n",
    "        return tf.nn.relu(tf.matmul(inputs, self.w) + self.b)"
   ]
  },
  {
   "cell_type": "markdown",
   "metadata": {},
   "source": [
    "Step 3: Integrate the custom layer into a model\n",
    "\n",
    "Create a Keras model using the custom layer."
   ]
  },
  {
   "cell_type": "code",
   "execution_count": 5,
   "metadata": {},
   "outputs": [],
   "source": [
    "from keras.api.layers import Softmax\n",
    "\n",
    "# Define the model with Softmax in the output layer\n",
    "\n",
    "model = Sequential([\n",
    "    CustomDenseLayer(128),\n",
    "    CustomDenseLayer(10),   # Hidden layer with ReLU activation\n",
    "    Softmax()               # Output layer with Softmax activation\n",
    "])"
   ]
  },
  {
   "cell_type": "markdown",
   "metadata": {},
   "source": [
    "The Softmax activation function is used in the output layer for multi-class classification tasks, ensuring the model outputs probabilities that sum up to 1 for each class, which aligns with categorical cross-entropy as the loss function. This adjustment ensures the model is optimized correctly for multi-class classification."
   ]
  },
  {
   "cell_type": "markdown",
   "metadata": {},
   "source": [
    "Step 4: Compile the model\n",
    "\n",
    "Compile the model with the Adam optimizer and categorical cross-entropy loss."
   ]
  },
  {
   "cell_type": "code",
   "execution_count": 6,
   "metadata": {},
   "outputs": [
    {
     "name": "stdout",
     "output_type": "stream",
     "text": []
    },
    {
     "name": "stdout",
     "output_type": "stream",
     "text": []
    },
    {
     "name": "stdout",
     "output_type": "stream",
     "text": []
    },
    {
     "name": "stdout",
     "output_type": "stream",
     "text": []
    },
    {
     "name": "stdout",
     "output_type": "stream",
     "text": []
    },
    {
     "name": "stdout",
     "output_type": "stream",
     "text": []
    },
    {
     "name": "stdout",
     "output_type": "stream",
     "text": []
    },
    {
     "name": "stdout",
     "output_type": "stream",
     "text": []
    },
    {
     "name": "stdout",
     "output_type": "stream",
     "text": []
    },
    {
     "name": "stdout",
     "output_type": "stream",
     "text": []
    },
    {
     "name": "stdout",
     "output_type": "stream",
     "text": []
    },
    {
     "name": "stdout",
     "output_type": "stream",
     "text": []
    }
   ],
   "source": [
    "model.compile(optimizer = 'adam', loss = 'categorical_crossentropy')\n",
    "print(\"Model summary before building:\")\n",
    "model.summary()\n",
    "\n",
    "# Build the model to show parameters\n",
    "model.build((1000, 20))\n",
    "print(\"\\nModel summary after building:\")\n",
    "model.summary()"
   ]
  },
  {
   "cell_type": "markdown",
   "metadata": {},
   "source": [
    "Step 5: Train the model\n",
    "\n",
    "Train the model on some example data. For this example, you will generate random data for training. In practice, use a real data set."
   ]
  },
  {
   "cell_type": "code",
   "execution_count": 7,
   "metadata": {},
   "outputs": [
    {
     "name": "stdout",
     "output_type": "stream",
     "text": []
    },
    {
     "name": "stdout",
     "output_type": "stream",
     "text": []
    }
   ],
   "source": [
    "import numpy as np\n",
    "\n",
    "# Generate random data\n",
    "x_train = np.random.random((1000, 20))\n",
    "y_train = np.random.randint(10, size = (1000, 1))\n",
    "\n",
    "# Convert labels to categorical one-hot encoding\n",
    "y_train = tf.keras.utils.to_categorical(y_train, num_classes = 10)\n",
    "model.fit(x_train, y_train, epochs = 10, batch_size = 32)"
   ]
  },
  {
   "cell_type": "markdown",
   "metadata": {},
   "source": [
    "Step 6: Evaluate the model\n",
    "\n",
    "Evaluate the model using test data to see its performance.\n",
    "\n",
    "For this example, you will generate random test data. In practice, use a real data set."
   ]
  },
  {
   "cell_type": "code",
   "execution_count": 8,
   "metadata": {},
   "outputs": [
    {
     "name": "stdout",
     "output_type": "stream",
     "text": []
    }
   ],
   "source": [
    "# Generate random test data\n",
    "x_test = np.random.random((200, 20))\n",
    "y_test = np.random.randint(10, size = (200, 1))\n",
    "\n",
    "# Convert labels to categorical one-hot encoding\n",
    "y_test = tf.keras.utils.to_categorical(y_test, num_classes = 10)\n",
    "\n",
    "# Evaluate the model\n",
    "loss = model.evaluate(x_test, y_test)\n",
    "print(f'Test loss: {loss}')"
   ]
  },
  {
   "cell_type": "markdown",
   "metadata": {},
   "source": [
    "#### Exercise 1: Visualize Model Architecture\n",
    "\n",
    "**Objective:** Visualize the architecture of the custom Keras model to understand its structure.\n",
    "\n",
    "**Instructions:**\n",
    "1. Use the `plot_model` function from `tensorflow.keras.utils` to visualize the model architecture.\n",
    "2. Save the plot as an image file."
   ]
  },
  {
   "cell_type": "code",
   "execution_count": 9,
   "metadata": {},
   "outputs": [
    {
     "name": "stdout",
     "output_type": "stream",
     "text": []
    }
   ],
   "source": [
    "from keras.api.utils import plot_model\n",
    "plot_model(model, to_file = 'model_architecture.png', show_shapes = True, show_layer_names = True)"
   ]
  },
  {
   "cell_type": "markdown",
   "metadata": {},
   "source": [
    "Exercise 2: Add Dropout Layer\n",
    "Objective: Enhance the model by adding a Dropout layer to prevent overfitting.\n",
    "\n",
    "Instructions:\n",
    "\n",
    "Add a Dropout layer between the custom dense layers.\n",
    "Recompile the model and observe the impact on training."
   ]
  },
  {
   "cell_type": "code",
   "execution_count": 10,
   "metadata": {},
   "outputs": [
    {
     "name": "stdout",
     "output_type": "stream",
     "text": []
    },
    {
     "name": "stdout",
     "output_type": "stream",
     "text": []
    }
   ],
   "source": [
    "from keras.api.layers import Dropout\n",
    "\n",
    "# Modify the model to include a Dropout layer\n",
    "model = Sequential([\n",
    "    CustomDenseLayer(64),\n",
    "    Dropout(0.5),           \n",
    "    CustomDenseLayer(10)\n",
    "])\n",
    "\n",
    "# Recompile the model\n",
    "model.compile(optimizer='adam', loss='categorical_crossentropy')\n",
    "\n",
    "# Train the model again\n",
    "model.fit(x_train, y_train, epochs=10, batch_size=32)"
   ]
  },
  {
   "cell_type": "markdown",
   "metadata": {},
   "source": [
    "Exercise 3: Adjust the Number of Units in Custom Layer\n",
    "Objective: Experiment with different numbers of units in the custom dense layer to observe the impact on performance.\n",
    "\n",
    "Instructions:\n",
    "\n",
    "Change the number of units in the CustomDenseLayer to 128.\n",
    "Recompile, train, and evaluate the model."
   ]
  },
  {
   "cell_type": "code",
   "execution_count": 11,
   "metadata": {},
   "outputs": [
    {
     "name": "stdout",
     "output_type": "stream",
     "text": []
    },
    {
     "name": "stdout",
     "output_type": "stream",
     "text": []
    }
   ],
   "source": [
    "class CustomDenseLayer2(Layer):\n",
    "    def __init__(self, units=128):\n",
    "        super(CustomDenseLayer2, self).__init__()\n",
    "        self.units = units\n",
    "\n",
    "    def build(self, input_shape):\n",
    "        self.w = self.add_weight(shape=(input_shape[-1], self.units),\n",
    "                                 initializer='random_normal',\n",
    "                                 trainable=True)\n",
    "        self.b = self.add_weight(shape=(self.units,),\n",
    "                                 initializer='zeros',\n",
    "                                 trainable=True)\n",
    "\n",
    "    def call(self, inputs):\n",
    "        return tf.nn.relu(tf.matmul(inputs, self.w) + self.b)\n",
    "\n",
    "# Integrate the new custom layer into a model\n",
    "model3 = Sequential([\n",
    "    CustomDenseLayer2(128),\n",
    "    CustomDenseLayer2(10)\n",
    "])\n",
    "\n",
    "# Recompile the model\n",
    "model3.compile(optimizer='adam', loss='categorical_crossentropy')\n",
    "\n",
    "# Train the model again\n",
    "model3.fit(x_train, y_train, epochs=10, batch_size=32)"
   ]
  }
 ],
 "metadata": {
  "kernelspec": {
   "display_name": "base",
   "language": "python",
   "name": "python3"
  },
  "language_info": {
   "codemirror_mode": {
    "name": "ipython",
    "version": 3
   },
   "file_extension": ".py",
   "mimetype": "text/x-python",
   "name": "python",
   "nbconvert_exporter": "python",
   "pygments_lexer": "ipython3",
   "version": "3.12.8"
  }
 },
 "nbformat": 4,
 "nbformat_minor": 2
}
