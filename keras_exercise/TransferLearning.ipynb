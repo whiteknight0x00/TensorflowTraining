{
 "cells": [
  {
   "cell_type": "markdown",
   "metadata": {},
   "source": [
    "learn to implement transfer learning using a pre-trained model in Keras.\n",
    "\n",
    "#### Learning objectives\n",
    "\n",
    "By the end of this lab, you will:\n",
    "\n",
    " - Import necessary libraries and load the dataset.\n",
    " - Load a pre-trained model, VGG16, excluding the top layers.\n",
    " - Add new layers on top of the base model and compile the model.\n",
    " - Train the model on the new dataset.\n",
    " - Unfreeze some of the layers of the pre-trained model and fine-tune them."
   ]
  },
  {
   "cell_type": "markdown",
   "metadata": {},
   "source": [
    "Step-by-Step Guide:\n",
    "Step 1: Setup the Environment\n",
    "Before we start, make sure to import the required libraries: TensorFlow and Keras. Keras is included within TensorFlow as tensorflow.keras."
   ]
  },
  {
   "cell_type": "code",
   "execution_count": 1,
   "metadata": {},
   "outputs": [],
   "source": [
    "from keras.api.applications import VGG16\n",
    "from keras.api.models import Sequential\n",
    "from keras.api.layers import Dense, Flatten\n",
    "# Explanation:\n",
    "# tensorflow is the main library for machine learning in Python.\n",
    "# Sequential is used to create a model with a linear stack of layers.\n",
    "# Dense and Flatten are types of layers that we will use in our model."
   ]
  },
  {
   "cell_type": "code",
   "execution_count": 2,
   "metadata": {},
   "outputs": [],
   "source": [
    "# Load the VGG16 model pre-trained on ImageNet\n",
    "base_model = VGG16(weights = 'imagenet', include_top = False, input_shape = (224, 224, 3))\n",
    "\n",
    "# Freeze the base model layers\n",
    "for layer in base_model.layers:\n",
    "    layer.trainable = False"
   ]
  },
  {
   "cell_type": "code",
   "execution_count": 7,
   "metadata": {},
   "outputs": [],
   "source": [
    "#### Step 3: Create and Compile the Model \n",
    "model = Sequential([\n",
    "    base_model,\n",
    "    Flatten(),\n",
    "    Dense(256, activation = 'relu'),\n",
    "    Dense(1, activation = 'sigmoid')\n",
    "])\n",
    "\n",
    "# Compile the model\n",
    "model.compile(optimizer = 'adam', loss = 'binary_crossentropy', metrics = ['accuracy'])\n"
   ]
  },
  {
   "cell_type": "code",
   "execution_count": 3,
   "metadata": {},
   "outputs": [
    {
     "name": "stdout",
     "output_type": "stream",
     "text": [
      "Sample images created in 'sample_data/'\n"
     ]
    }
   ],
   "source": [
    "# Create Placeholder Images\n",
    "import os\n",
    "from PIL import Image\n",
    "import numpy as np\n",
    "\n",
    "# Create directories if they don't exist\n",
    "os.makedirs('sample_data/class_a', exist_ok = True)\n",
    "os.makedirs('sample_data/class_b', exist_ok = True)\n",
    "\n",
    "# Create 10 sample images for each class\n",
    "for i in range(10):\n",
    "    # Create a blank white image for class_a\n",
    "    # Return a new array of given shape and type, filled with ones.\n",
    "    img = Image.fromarray(np.ones((224, 224, 3), dtype = np.uint8) * 255)\n",
    "    img.save(f'sample_data/class_a/img_{i}.jpg')\n",
    "\n",
    "    # Create a blank black image for class_b\n",
    "    # @overload\n",
    "    # def zeros(\n",
    "    #     shape: _ShapeLike,\n",
    "    #     dtype: None = ...,\n",
    "    #     order: _OrderCF = ...,\n",
    "    #     *,\n",
    "    #     device: None | L[\"cpu\"] = ...,\n",
    "    #     like: None | _SupportsArrayFunc = ...,\n",
    "    # ) -> NDArray[float64]: ...\n",
    "    # @overload\n",
    "    # def zeros(\n",
    "    #     shape: _ShapeLike,\n",
    "    #     dtype: _DTypeLike[_SCT],\n",
    "    #     order: _OrderCF = ...,\n",
    "    #     *,\n",
    "    #     device: None | L[\"cpu\"] = ...,\n",
    "    #     like: None | _SupportsArrayFunc = ...,\n",
    "    # ) -> NDArray[_SCT]: ...\n",
    "    # @overload\n",
    "    # def zeros(\n",
    "    #     shape: _ShapeLike,\n",
    "    #     dtype: DTypeLike,\n",
    "    #     order: _OrderCF = ...,\n",
    "    #     *,\n",
    "    #     device: None | L[\"cpu\"] = ...,\n",
    "    #     like: None | _SupportsArrayFunc = ...,\n",
    "    # ) -> NDArray[Any]: ...\n",
    "    # has been overloaded\n",
    "    img = Image.fromarray(np.zeros((224, 224, 3), dtype = np.uint8))\n",
    "    img.save(f'sample_data/class_b/img_{i}.jpg')\n",
    "\n",
    "print(\"Sample images created in 'sample_data/'\")"
   ]
  },
  {
   "cell_type": "code",
   "execution_count": 9,
   "metadata": {},
   "outputs": [
    {
     "name": "stdout",
     "output_type": "stream",
     "text": [
      "Found 20 images belonging to 2 classes.\n",
      "Epoch 1/10\n",
      "\u001b[1m1/1\u001b[0m \u001b[32m━━━━━━━━━━━━━━━━━━━━\u001b[0m\u001b[37m\u001b[0m \u001b[1m0s\u001b[0m 387ms/step - accuracy: 0.5000 - loss: 0.6818\n",
      "Epoch 2/10\n",
      "\u001b[1m1/1\u001b[0m \u001b[32m━━━━━━━━━━━━━━━━━━━━\u001b[0m\u001b[37m\u001b[0m \u001b[1m0s\u001b[0m 79ms/step - accuracy: 0.5000 - loss: 0.4138\n",
      "Epoch 3/10\n",
      "\u001b[1m1/1\u001b[0m \u001b[32m━━━━━━━━━━━━━━━━━━━━\u001b[0m\u001b[37m\u001b[0m \u001b[1m0s\u001b[0m 90ms/step - accuracy: 0.5000 - loss: 0.3712\n",
      "Epoch 4/10\n",
      "\u001b[1m1/1\u001b[0m \u001b[32m━━━━━━━━━━━━━━━━━━━━\u001b[0m\u001b[37m\u001b[0m \u001b[1m0s\u001b[0m 79ms/step - accuracy: 1.0000 - loss: 0.3459\n",
      "Epoch 5/10\n",
      "\u001b[1m1/1\u001b[0m \u001b[32m━━━━━━━━━━━━━━━━━━━━\u001b[0m\u001b[37m\u001b[0m \u001b[1m0s\u001b[0m 81ms/step - accuracy: 1.0000 - loss: 0.3451\n",
      "Epoch 6/10\n",
      "\u001b[1m1/1\u001b[0m \u001b[32m━━━━━━━━━━━━━━━━━━━━\u001b[0m\u001b[37m\u001b[0m \u001b[1m0s\u001b[0m 78ms/step - accuracy: 1.0000 - loss: 0.3447\n",
      "Epoch 7/10\n",
      "\u001b[1m1/1\u001b[0m \u001b[32m━━━━━━━━━━━━━━━━━━━━\u001b[0m\u001b[37m\u001b[0m \u001b[1m0s\u001b[0m 78ms/step - accuracy: 1.0000 - loss: 0.3442\n",
      "Epoch 8/10\n",
      "\u001b[1m1/1\u001b[0m \u001b[32m━━━━━━━━━━━━━━━━━━━━\u001b[0m\u001b[37m\u001b[0m \u001b[1m0s\u001b[0m 79ms/step - accuracy: 1.0000 - loss: 0.3437\n",
      "Epoch 9/10\n"
     ]
    },
    {
     "name": "stderr",
     "output_type": "stream",
     "text": [
      "2025-03-13 22:33:37.226664: I tensorflow/core/framework/local_rendezvous.cc:407] Local rendezvous is aborting with status: OUT_OF_RANGE: End of sequence\n",
      "\t [[{{node IteratorGetNext}}]]\n"
     ]
    },
    {
     "name": "stdout",
     "output_type": "stream",
     "text": [
      "\u001b[1m1/1\u001b[0m \u001b[32m━━━━━━━━━━━━━━━━━━━━\u001b[0m\u001b[37m\u001b[0m \u001b[1m0s\u001b[0m 79ms/step - accuracy: 1.0000 - loss: 0.3433\n",
      "Epoch 10/10\n",
      "\u001b[1m1/1\u001b[0m \u001b[32m━━━━━━━━━━━━━━━━━━━━\u001b[0m\u001b[37m\u001b[0m \u001b[1m0s\u001b[0m 79ms/step - accuracy: 1.0000 - loss: 0.3428\n"
     ]
    }
   ],
   "source": [
    "# Step 4: Train the Model¶\n",
    "# Load the preprocess the dataset\n",
    "import tensorflow as tf\n",
    "import keras\n",
    "def load_and_preprocess_image(file_path):\n",
    "    image = tf.io.read_file(file_path)\n",
    "    image = tf.image.decode_jpeg(image, channels = 3)\n",
    "    image = tf.image.resize(image, [224, 224])\n",
    "    image = image / 255.0 # Rescale the image\n",
    "    return image\n",
    "\n",
    "# Define the function to load the dataset\n",
    "def load_dataset(directory):\n",
    "    file_paths = []\n",
    "    labels = []\n",
    "    class_names = sorted(os.listdir(directory))\n",
    "    for label, class_name in enumerate(class_names):\n",
    "        class_dir = os.path.join(directory, class_name)\n",
    "        for file_name in os.listdir(class_dir):\n",
    "            file_paths.append(os.path.join(class_dir, file_name))\n",
    "            labels.append(label)\n",
    "    return file_paths, labels, class_names\n",
    "\n",
    "# Load the dataset\n",
    "directory = 'sample_data'\n",
    "file_paths, labels, class_names = load_dataset(directory)\n",
    "\n",
    "# Create a tf.data.Dataset object\n",
    "dataset = tf.data.Dataset.from_tensor_slices((file_paths, labels))\n",
    "dataset = dataset.map(lambda x, y: (load_and_preprocess_image(x), y), num_parallel_calls = tf.data.AUTOTUNE)\n",
    "dataset = dataset.batch(32).prefetch(tf.data.AUTOTUNE)\n",
    "\n",
    "# Split the dataset into training and validation sets\n",
    "train_size = int(0.8 * len(file_paths))\n",
    "train_dataset = dataset.take(train_size)\n",
    "val_dataset = dataset.skip(train_size)\n",
    "\n",
    "# Verify if the dataset has loaded images correctly\n",
    "print(f\"Found {len(file_paths)} images belonging to {len(class_names)} classes.\")\n",
    "\n",
    "# Define a simple model for demonstration purposes\n",
    "model = Sequential([\n",
    "    keras.layers.Conv2D(32, (3, 3), activation = 'relu', input_shape = (224, 224, 3)),\n",
    "    keras.layers.MaxPooling2D((2, 2)),\n",
    "    keras.layers.Flatten(),\n",
    "    keras.layers.Dense(128, activation = 'relu'),\n",
    "    keras.layers.Dense(1, activation = 'sigmoid')\n",
    "])\n",
    "\n",
    "# Compile the model\n",
    "model.compile(optimizer = 'adam', loss = 'binary_crossentropy', metrics = ['accuracy'])\n",
    "\n",
    "# Train the model\n",
    "if len(file_paths) > 0:\n",
    "    model.fit(train_dataset, validation_data=val_dataset, epochs=10)\n"
   ]
  },
  {
   "cell_type": "markdown",
   "metadata": {},
   "source": [
    "GitHub Copilot\n",
    "Since ImageDataGenerator is deprecated, we will use tf.data to load and preprocess the dataset. Here's how you can achieve the same functionality using tf.data:\n",
    "\n",
    "Load and preprocess the dataset.\n",
    "Create a tf.data.Dataset object.\n",
    "Train the model.\n",
    "Here's the updated code:\n",
    "\n",
    "1 vulnerability\n",
    "In this code:\n",
    "\n",
    "The load_and_preprocess_image function loads and preprocesses the images by reading the file, decoding the JPEG image, resizing it to the target size, and rescaling the pixel values.\n",
    "The load_dataset function loads the dataset from the specified directory and returns the file paths, labels, and class names.\n",
    "The tf.data.Dataset object is created from the file paths and labels, and the images are loaded and preprocessed using the load_and_preprocess_image function.\n",
    "The dataset is split into training and validation sets.\n",
    "A simple model is defined, compiled, and trained using the training and validation datasets.\n",
    "Similar code found with 2 license types - View matches\n",
    "whiteknight0x00\n",
    "whats the meaning of channels = 3?\n",
    "\n",
    "GitHub Copilot\n",
    "In the context of image processing, the term \"channels\" refers to the different color components that make up an image. Each channel represents a specific color in the image. The most common color channels are:\n",
    "\n",
    "1 channel: Grayscale image (only intensity values, no color information).\n",
    "3 channels: RGB image (Red, Green, and Blue channels).\n",
    "4 channels: RGBA image (Red, Green, Blue, and Alpha channels, where Alpha represents transparency).\n",
    "When you see channels=3, it means that the image has three color channels, which typically correspond to the RGB color model. Each pixel in the image is represented by three values: one for the red component, one for the green component, and one for the blue component.\n",
    "\n",
    "For example, in the following code snippet from your active file, the decode_jpeg function is used to decode a JPEG image, and the channels parameter specifies the number of color channels in the output image:"
   ]
  },
  {
   "cell_type": "code",
   "execution_count": 10,
   "metadata": {},
   "outputs": [],
   "source": [
    "# decode_jpeg = tf_export(\n",
    "#     'io.decode_jpeg',\n",
    "#     'image.decode_jpeg',\n",
    "#     v1=['io.decode_jpeg', 'image.decode_jpeg'])(\n",
    "#         dispatch.add_dispatch_support(gen_image_ops.decode_jpeg))"
   ]
  },
  {
   "cell_type": "markdown",
   "metadata": {},
   "source": [
    "If you set channels=3, the decoded image will have three color channels (RGB). If you set channels=1, the decoded image will be a grayscale image with only one channel."
   ]
  },
  {
   "cell_type": "markdown",
   "metadata": {},
   "source": [
    "#### Exercise 1: Visualize Training and Validation Loss\n",
    "\n",
    "**Objective:** Plot the training and validation loss to observe the learning process of the model.\n",
    "\n",
    "**Instructions:**\n",
    "1. Modify the training code to include validation data.\n",
    "2. Plot the training and validation loss for each epoch."
   ]
  },
  {
   "cell_type": "code",
   "execution_count": null,
   "metadata": {},
   "outputs": [
    {
     "name": "stdout",
     "output_type": "stream",
     "text": [
      "16\n",
      "20\n"
     ]
    },
    {
     "name": "stderr",
     "output_type": "stream",
     "text": [
      "/Users/whiteknight/.local/lib/python3.12/site-packages/keras/src/layers/convolutional/base_conv.py:107: UserWarning: Do not pass an `input_shape`/`input_dim` argument to a layer. When using Sequential models, prefer using an `Input(shape)` object as the first layer in the model instead.\n",
      "  super().__init__(activity_regularizer=activity_regularizer, **kwargs)\n"
     ]
    },
    {
     "name": "stdout",
     "output_type": "stream",
     "text": [
      "Epoch 1/10\n",
      "\u001b[1m1/1\u001b[0m \u001b[32m━━━━━━━━━━━━━━━━━━━━\u001b[0m\u001b[37m\u001b[0m \u001b[1m1s\u001b[0m 614ms/step - accuracy: 0.0000e+00 - loss: 0.7963\n",
      "Epoch 2/10\n",
      "\u001b[1m1/1\u001b[0m \u001b[32m━━━━━━━━━━━━━━━━━━━━\u001b[0m\u001b[37m\u001b[0m \u001b[1m0s\u001b[0m 81ms/step - accuracy: 0.5000 - loss: 0.4456\n",
      "Epoch 3/10\n",
      "\u001b[1m1/1\u001b[0m \u001b[32m━━━━━━━━━━━━━━━━━━━━\u001b[0m\u001b[37m\u001b[0m \u001b[1m0s\u001b[0m 80ms/step - accuracy: 0.5000 - loss: 0.3844\n",
      "Epoch 4/10\n"
     ]
    },
    {
     "name": "stderr",
     "output_type": "stream",
     "text": [
      "2025-03-13 22:46:59.212360: I tensorflow/core/framework/local_rendezvous.cc:407] Local rendezvous is aborting with status: OUT_OF_RANGE: End of sequence\n",
      "\t [[{{node IteratorGetNext}}]]\n",
      "/Users/whiteknight/.local/lib/python3.12/site-packages/keras/src/trainers/epoch_iterator.py:151: UserWarning: Your input ran out of data; interrupting training. Make sure that your dataset or generator can generate at least `steps_per_epoch * epochs` batches. You may need to use the `.repeat()` function when building your dataset.\n",
      "  self._interrupted_warning()\n"
     ]
    },
    {
     "name": "stdout",
     "output_type": "stream",
     "text": [
      "\u001b[1m1/1\u001b[0m \u001b[32m━━━━━━━━━━━━━━━━━━━━\u001b[0m\u001b[37m\u001b[0m \u001b[1m0s\u001b[0m 78ms/step - accuracy: 0.5000 - loss: 0.3467\n",
      "Epoch 5/10\n",
      "\u001b[1m1/1\u001b[0m \u001b[32m━━━━━━━━━━━━━━━━━━━━\u001b[0m\u001b[37m\u001b[0m \u001b[1m0s\u001b[0m 78ms/step - accuracy: 1.0000 - loss: 0.3458\n",
      "Epoch 6/10\n",
      "\u001b[1m1/1\u001b[0m \u001b[32m━━━━━━━━━━━━━━━━━━━━\u001b[0m\u001b[37m\u001b[0m \u001b[1m0s\u001b[0m 79ms/step - accuracy: 1.0000 - loss: 0.3454\n",
      "Epoch 7/10\n",
      "\u001b[1m1/1\u001b[0m \u001b[32m━━━━━━━━━━━━━━━━━━━━\u001b[0m\u001b[37m\u001b[0m \u001b[1m0s\u001b[0m 78ms/step - accuracy: 1.0000 - loss: 0.3450\n",
      "Epoch 8/10\n",
      "\u001b[1m1/1\u001b[0m \u001b[32m━━━━━━━━━━━━━━━━━━━━\u001b[0m\u001b[37m\u001b[0m \u001b[1m0s\u001b[0m 79ms/step - accuracy: 1.0000 - loss: 0.3446\n",
      "Epoch 9/10\n",
      "\u001b[1m1/1\u001b[0m \u001b[32m━━━━━━━━━━━━━━━━━━━━\u001b[0m\u001b[37m\u001b[0m \u001b[1m0s\u001b[0m 80ms/step - accuracy: 1.0000 - loss: 0.3442\n",
      "Epoch 10/10\n",
      "\u001b[1m1/1\u001b[0m \u001b[32m━━━━━━━━━━━━━━━━━━━━\u001b[0m\u001b[37m\u001b[0m \u001b[1m0s\u001b[0m 77ms/step - accuracy: 1.0000 - loss: 0.3438\n",
      "{'accuracy': [0.0, 0.5, 0.5, 0.5, 1.0, 1.0, 1.0, 1.0, 1.0, 1.0], 'loss': [0.7962669134140015, 0.4455734193325043, 0.3843790292739868, 0.3467053771018982, 0.3458406329154968, 0.34543171525001526, 0.3450325131416321, 0.34462469816207886, 0.34420984983444214, 0.3437888026237488]}\n"
     ]
    },
    {
     "ename": "KeyError",
     "evalue": "'val_loss'",
     "output_type": "error",
     "traceback": [
      "\u001b[31m---------------------------------------------------------------------------\u001b[39m",
      "\u001b[31mKeyError\u001b[39m                                  Traceback (most recent call last)",
      "\u001b[36mCell\u001b[39m\u001b[36m \u001b[39m\u001b[32mIn[13]\u001b[39m\u001b[32m, line 67\u001b[39m\n\u001b[32m     65\u001b[39m \u001b[38;5;66;03m# Plot training and validation loss\u001b[39;00m\n\u001b[32m     66\u001b[39m plt.plot(history.history[\u001b[33m'\u001b[39m\u001b[33mloss\u001b[39m\u001b[33m'\u001b[39m], label = \u001b[33m'\u001b[39m\u001b[33mTraining Loss\u001b[39m\u001b[33m'\u001b[39m)\n\u001b[32m---> \u001b[39m\u001b[32m67\u001b[39m plt.plot(\u001b[43mhistory\u001b[49m\u001b[43m.\u001b[49m\u001b[43mhistory\u001b[49m\u001b[43m[\u001b[49m\u001b[33;43m'\u001b[39;49m\u001b[33;43mval_loss\u001b[39;49m\u001b[33;43m'\u001b[39;49m\u001b[43m]\u001b[49m, label = \u001b[33m'\u001b[39m\u001b[33mValidation Loss\u001b[39m\u001b[33m'\u001b[39m)\n\u001b[32m     68\u001b[39m plt.title(\u001b[33m'\u001b[39m\u001b[33mTraining and Validation Loss\u001b[39m\u001b[33m'\u001b[39m)\n\u001b[32m     69\u001b[39m plt.xlabel(\u001b[33m'\u001b[39m\u001b[33mEpochs\u001b[39m\u001b[33m'\u001b[39m)\n",
      "\u001b[31mKeyError\u001b[39m: 'val_loss'"
     ]
    },
    {
     "data": {
      "image/png": "[encoded data removed]",
      "text/plain": [
       "<Figure size 640x480 with 1 Axes>"
      ]
     },
     "metadata": {},
     "output_type": "display_data"
    }
   ],
   "source": [
    "import matplotlib.pyplot as plt\n",
    "import tensorflow as tf\n",
    "import keras\n",
    "def load_and_preprocess_image(file_path):\n",
    "    image = tf.io.read_file(file_path)\n",
    "    image = tf.image.decode_jpeg(image, channels = 3)\n",
    "    image = tf.image.resize(image, [224, 224])\n",
    "    image = image / 255.0 # Rescale the image\n",
    "    return image\n",
    "\n",
    "# Define the function to load the dataset\n",
    "def load_dataset(directory):\n",
    "    file_paths = []\n",
    "    labels = []\n",
    "    class_names = sorted(os.listdir(directory))\n",
    "    for label, class_name in enumerate(class_names):\n",
    "        class_dir = os.path.join(directory, class_name)\n",
    "        for file_name in os.listdir(class_dir):\n",
    "            file_paths.append(os.path.join(class_dir, file_name))\n",
    "            labels.append(label)\n",
    "    return file_paths, labels, class_names\n",
    "\n",
    "# Load the dataset\n",
    "directory = 'sample_data'\n",
    "file_paths, labels, class_names = load_dataset(directory)\n",
    "\n",
    "# Create a tf.data.Dataset object\n",
    "dataset = tf.data.Dataset.from_tensor_slices((file_paths, labels))\n",
    "dataset = dataset.map(lambda x, y: (load_and_preprocess_image(x), y), num_parallel_calls = tf.data.AUTOTUNE)\n",
    "dataset = dataset.batch(32).prefetch(tf.data.AUTOTUNE)\n",
    "\n",
    "# Split the dataset into training and validation sets\n",
    "train_size = int(0.8 * len(file_paths))\n",
    "print(train_size)\n",
    "print(len(file_paths))\n",
    "val_size = len(file_paths) - train_size\n",
    "train_dataset = dataset.take(train_size)\n",
    "val_dataset = dataset.skip(train_size).take(val_size)\n",
    "\n",
    "for i in val_dataset:\n",
    "    print(f\"val_dataset:{i}\\n\")\n",
    "\n",
    "\n",
    "# Ensure that the validation dataset is not empty\n",
    "if val_size == 0:\n",
    "    raise ValueError(\"Validation dataset is empty. Please ensure there are enough samples to create a validation set.\")\n",
    "\n",
    "# Define a simple model for demonstration purposes\n",
    "model = Sequential([\n",
    "    keras.layers.Conv2D(32, (3, 3), activation = 'relu', input_shape = (224, 224, 3)),\n",
    "    keras.layers.MaxPooling2D((2, 2)),\n",
    "    keras.layers.Flatten(),\n",
    "    keras.layers.Dense(128, activation = 'relu'),\n",
    "    keras.layers.Dense(1, activation = 'sigmoid')\n",
    "])\n",
    "\n",
    "# Compile the model\n",
    "model.compile(optimizer = 'adam', loss = 'binary_crossentropy', metrics = ['accuracy'])\n",
    "\n",
    "# TODO: So there is an error in the code, which I am not able to figure out.\n",
    "# The error is: KeyError: 'val_loss'\n",
    "# I am not for sure if the error is caused by the pre-trained model.\n",
    "# I think the error is caused is caused by empty validation dataset, So I will figure it out tomorrow.\n",
    "# End of the day.\n",
    "# Date: 13/03/2025 10:50 PM\n",
    "history = model.fit(train_dataset, validation_data = val_dataset, epochs=10)\n",
    "\n",
    "\n",
    "print(history.history)\n",
    "# Plot training and validation loss\n",
    "plt.plot(history.history['loss'], label = 'Training Loss')\n",
    "plt.plot(history.history['val_loss'], label = 'Validation Loss')\n",
    "plt.title('Training and Validation Loss')\n",
    "plt.xlabel('Epochs')\n",
    "plt.ylabel('Loss')\n",
    "plt.legend()\n",
    "plt.show()"
   ]
  }
 ],
 "metadata": {
  "kernelspec": {
   "display_name": "base",
   "language": "python",
   "name": "python3"
  },
  "language_info": {
   "codemirror_mode": {
    "name": "ipython",
    "version": 3
   },
   "file_extension": ".py",
   "mimetype": "text/x-python",
   "name": "python",
   "nbconvert_exporter": "python",
   "pygments_lexer": "ipython3",
   "version": "3.12.8"
  }
 },
 "nbformat": 4,
 "nbformat_minor": 2
}
